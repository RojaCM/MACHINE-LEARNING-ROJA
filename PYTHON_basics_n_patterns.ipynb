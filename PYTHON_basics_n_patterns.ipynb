{
  "nbformat": 4,
  "nbformat_minor": 0,
  "metadata": {
    "colab": {
      "name": "PYTHON basics n patterns.ipynb",
      "provenance": [],
      "collapsed_sections": [],
      "authorship_tag": "ABX9TyPdPU/ORcnx5Mb22aQUR/rj",
      "include_colab_link": true
    },
    "kernelspec": {
      "name": "python3",
      "display_name": "Python 3"
    },
    "language_info": {
      "name": "python"
    }
  },
  "cells": [
    {
      "cell_type": "markdown",
      "metadata": {
        "id": "view-in-github",
        "colab_type": "text"
      },
      "source": [
        "<a href=\"https://colab.research.google.com/github/RojaCM/MACHINE-LEARNING-ROJA/blob/main/PYTHON_basics_n_patterns.ipynb\" target=\"_parent\"><img src=\"https://colab.research.google.com/assets/colab-badge.svg\" alt=\"Open In Colab\"/></a>"
      ]
    },
    {
      "cell_type": "code",
      "execution_count": null,
      "metadata": {
        "colab": {
          "base_uri": "https://localhost:8080/"
        },
        "id": "mMDMBdtWGU5U",
        "outputId": "3ed769e8-0faf-4a4d-b78a-11d05dbebfad"
      },
      "outputs": [
        {
          "name": "stdout",
          "output_type": "stream",
          "text": [
            "enter a integer78\n"
          ]
        }
      ],
      "source": [
        "a=int(input('enter a integer'))\n"
      ]
    },
    {
      "cell_type": "code",
      "source": [
        "a"
      ],
      "metadata": {
        "colab": {
          "base_uri": "https://localhost:8080/"
        },
        "id": "gSwv_3gfGfqE",
        "outputId": "df7ad9d4-b4b8-4dcd-de98-61a29ce557fb"
      },
      "execution_count": null,
      "outputs": [
        {
          "output_type": "execute_result",
          "data": {
            "text/plain": [
              "78"
            ]
          },
          "metadata": {},
          "execution_count": 10
        }
      ]
    },
    {
      "cell_type": "code",
      "source": [
        "type(a)"
      ],
      "metadata": {
        "colab": {
          "base_uri": "https://localhost:8080/"
        },
        "id": "vhBFiPEQGjiW",
        "outputId": "88a3dfde-0f94-4fa7-9590-1d58cfbdc385"
      },
      "execution_count": null,
      "outputs": [
        {
          "output_type": "execute_result",
          "data": {
            "text/plain": [
              "int"
            ]
          },
          "metadata": {},
          "execution_count": 11
        }
      ]
    },
    {
      "cell_type": "code",
      "source": [
        "a=int(input('enter a number'))\n",
        "if a<34:\n",
        "  print('the value of a is less than 34')\n",
        "elif a<100:\n",
        "  print('the value of a is less than 100')\n",
        "else:\n",
        "  print('the value is not less than 34')\n"
      ],
      "metadata": {
        "colab": {
          "base_uri": "https://localhost:8080/"
        },
        "id": "AlxjvQwBGnLN",
        "outputId": "e195e063-f77a-4b9b-b5d4-a038f71272d1"
      },
      "execution_count": null,
      "outputs": [
        {
          "output_type": "stream",
          "name": "stdout",
          "text": [
            "enter a number110\n",
            "the value is not less than 34\n"
          ]
        }
      ]
    },
    {
      "cell_type": "code",
      "source": [
        "#complex data type\n",
        "b=50+65j"
      ],
      "metadata": {
        "id": "gF7s7q3VIdxk"
      },
      "execution_count": null,
      "outputs": []
    },
    {
      "cell_type": "code",
      "source": [
        "b.real"
      ],
      "metadata": {
        "colab": {
          "base_uri": "https://localhost:8080/"
        },
        "id": "qT1z2yk7I-vG",
        "outputId": "1a96252c-90f1-425e-f63f-69dd5ac0af7a"
      },
      "execution_count": null,
      "outputs": [
        {
          "output_type": "execute_result",
          "data": {
            "text/plain": [
              "50.0"
            ]
          },
          "metadata": {},
          "execution_count": 23
        }
      ]
    },
    {
      "cell_type": "code",
      "source": [
        "b.imag"
      ],
      "metadata": {
        "colab": {
          "base_uri": "https://localhost:8080/"
        },
        "id": "OqUxVLEgI-zu",
        "outputId": "a6cb49b7-58b1-4f83-b5bd-f24d76e205d9"
      },
      "execution_count": null,
      "outputs": [
        {
          "output_type": "execute_result",
          "data": {
            "text/plain": [
              "65.0"
            ]
          },
          "metadata": {},
          "execution_count": 24
        }
      ]
    },
    {
      "cell_type": "code",
      "source": [
        "notes=5\n",
        "i=1\n",
        "j=1\n",
        "while i <notes:\n",
        "  print(i)\n",
        "  i+=1\n",
        "else :\n",
        "    \n",
        "    while j < 2 :\n",
        "        print(i)\n",
        "        j = j + 1 \n",
        "    print(\"no 10 rs notes are available \")\n"
      ],
      "metadata": {
        "colab": {
          "base_uri": "https://localhost:8080/"
        },
        "id": "TF9vPgNFI-41",
        "outputId": "a0b0d73b-fdd2-42df-e394-062f9858a459"
      },
      "execution_count": null,
      "outputs": [
        {
          "output_type": "stream",
          "name": "stdout",
          "text": [
            "1\n",
            "2\n",
            "3\n",
            "4\n",
            "5\n",
            "no 10 rs notes are available \n"
          ]
        }
      ]
    },
    {
      "cell_type": "code",
      "source": [
        "b='my name is rojacm'\n",
        "b[2:]"
      ],
      "metadata": {
        "colab": {
          "base_uri": "https://localhost:8080/",
          "height": 35
        },
        "id": "xoCs55cuJLRK",
        "outputId": "4e100a64-12e8-47de-da2f-8c0bc501d7cc"
      },
      "execution_count": null,
      "outputs": [
        {
          "output_type": "execute_result",
          "data": {
            "application/vnd.google.colaboratory.intrinsic+json": {
              "type": "string"
            },
            "text/plain": [
              "' name is rojacm'"
            ]
          },
          "metadata": {},
          "execution_count": 2
        }
      ]
    },
    {
      "cell_type": "code",
      "source": [
        "b[::-1]"
      ],
      "metadata": {
        "colab": {
          "base_uri": "https://localhost:8080/",
          "height": 35
        },
        "id": "RA5R185wJLVr",
        "outputId": "b47c6272-9a10-4e78-de5b-3b546c16a0cc"
      },
      "execution_count": null,
      "outputs": [
        {
          "output_type": "execute_result",
          "data": {
            "application/vnd.google.colaboratory.intrinsic+json": {
              "type": "string"
            },
            "text/plain": [
              "'mcajor si eman ym'"
            ]
          },
          "metadata": {},
          "execution_count": 3
        }
      ]
    },
    {
      "cell_type": "code",
      "source": [
        "b[2:5]"
      ],
      "metadata": {
        "colab": {
          "base_uri": "https://localhost:8080/",
          "height": 35
        },
        "id": "eCpi_bhH-MY_",
        "outputId": "5a87c1a1-ff6e-4cdb-9ea9-1b7b499df833"
      },
      "execution_count": null,
      "outputs": [
        {
          "output_type": "execute_result",
          "data": {
            "application/vnd.google.colaboratory.intrinsic+json": {
              "type": "string"
            },
            "text/plain": [
              "' na'"
            ]
          },
          "metadata": {},
          "execution_count": 4
        }
      ]
    },
    {
      "cell_type": "code",
      "source": [
        "b"
      ],
      "metadata": {
        "colab": {
          "base_uri": "https://localhost:8080/",
          "height": 35
        },
        "id": "RgDCBZ4c-1U-",
        "outputId": "7b23bc9a-c365-47c0-fcf0-a6f7edc1058a"
      },
      "execution_count": null,
      "outputs": [
        {
          "output_type": "execute_result",
          "data": {
            "application/vnd.google.colaboratory.intrinsic+json": {
              "type": "string"
            },
            "text/plain": [
              "'my name is rojacm'"
            ]
          },
          "metadata": {},
          "execution_count": 5
        }
      ]
    },
    {
      "cell_type": "code",
      "source": [
        "for i in b:\n",
        "  if i=='a':\n",
        "    print('i got letter a in the name')\n",
        "  print(i)"
      ],
      "metadata": {
        "colab": {
          "base_uri": "https://localhost:8080/"
        },
        "id": "t09ah-p9-1aE",
        "outputId": "533901cc-1061-42d7-9e48-36343532c3c3"
      },
      "execution_count": null,
      "outputs": [
        {
          "output_type": "stream",
          "name": "stdout",
          "text": [
            "m\n",
            "y\n",
            " \n",
            "n\n",
            "i got letter a in the name\n",
            "a\n",
            "m\n",
            "e\n",
            " \n",
            "i\n",
            "s\n",
            " \n",
            "r\n",
            "o\n",
            "j\n",
            "i got letter a in the name\n",
            "a\n",
            "c\n",
            "m\n"
          ]
        }
      ]
    },
    {
      "cell_type": "code",
      "source": [
        "for i in b:\n",
        "    if i == \"r\":\n",
        "        continue \n",
        "    print(i)\n",
        "else:\n",
        "  if i=='m':\n",
        "    print('the last character is m')\n",
        "    "
      ],
      "metadata": {
        "colab": {
          "base_uri": "https://localhost:8080/"
        },
        "id": "CCEdW3iUAwv2",
        "outputId": "db36d279-6719-4b81-cdde-cdb574c1c25a"
      },
      "execution_count": null,
      "outputs": [
        {
          "output_type": "stream",
          "name": "stdout",
          "text": [
            "m\n",
            "y\n",
            " \n",
            "n\n",
            "a\n",
            "m\n",
            "e\n",
            " \n",
            "i\n",
            "s\n",
            " \n",
            "o\n",
            "j\n",
            "a\n",
            "c\n",
            "m\n",
            "the last character is m\n"
          ]
        }
      ]
    },
    {
      "cell_type": "markdown",
      "source": [
        "#PATTERNS"
      ],
      "metadata": {
        "id": "y1p3WkhHAw1Y"
      }
    },
    {
      "cell_type": "code",
      "source": [
        "for i in range(4):\n",
        "  for j in range(4):\n",
        "    print('#',end='')\n",
        "  print()"
      ],
      "metadata": {
        "colab": {
          "base_uri": "https://localhost:8080/"
        },
        "id": "IsqB8xp3Aw6o",
        "outputId": "04a323f4-e363-4fe6-b7ee-d269d6b6f44b"
      },
      "execution_count": null,
      "outputs": [
        {
          "output_type": "stream",
          "name": "stdout",
          "text": [
            "####\n",
            "####\n",
            "####\n",
            "####\n"
          ]
        }
      ]
    },
    {
      "cell_type": "code",
      "source": [
        "for i in range(4):\n",
        "  for j in range(i+1):\n",
        "    print('#',end='')\n",
        "  print()"
      ],
      "metadata": {
        "colab": {
          "base_uri": "https://localhost:8080/"
        },
        "id": "x1mmZU6ZAw_k",
        "outputId": "5c2c9fb4-5012-4642-a4e3-56197a8544b8"
      },
      "execution_count": null,
      "outputs": [
        {
          "output_type": "stream",
          "name": "stdout",
          "text": [
            "#\n",
            "##\n",
            "###\n",
            "####\n"
          ]
        }
      ]
    },
    {
      "cell_type": "code",
      "source": [
        "for i in range(7):\n",
        "  for j in range(i+1):\n",
        "    print('*',end='')\n",
        "  print()"
      ],
      "metadata": {
        "colab": {
          "base_uri": "https://localhost:8080/"
        },
        "id": "DekxowVwU0AK",
        "outputId": "6f7a93a9-9908-4ff6-e64d-96a990862fe2"
      },
      "execution_count": null,
      "outputs": [
        {
          "output_type": "stream",
          "name": "stdout",
          "text": [
            "*\n",
            "**\n",
            "***\n",
            "****\n",
            "*****\n",
            "******\n",
            "*******\n"
          ]
        }
      ]
    },
    {
      "cell_type": "code",
      "source": [
        "n=7\n",
        "for i in range(n):\n",
        "  for j in range(n-i):\n",
        "    print('*',end='')\n",
        "  print()"
      ],
      "metadata": {
        "colab": {
          "base_uri": "https://localhost:8080/"
        },
        "id": "egdvFyLaYWES",
        "outputId": "8bf34471-a8cb-4767-f783-76ce5aa71b14"
      },
      "execution_count": null,
      "outputs": [
        {
          "output_type": "stream",
          "name": "stdout",
          "text": [
            "*******\n",
            "******\n",
            "*****\n",
            "****\n",
            "***\n",
            "**\n",
            "*\n"
          ]
        }
      ]
    },
    {
      "cell_type": "code",
      "source": [
        "n=int(input('enter the no. of rows'))\n",
        "for i in range(n):\n",
        "  for j in range(n-i-1):\n",
        "     print(' ',end='')\n",
        "  for j in range(i+1):\n",
        "    print('*',end=' ')\n",
        "  print()"
      ],
      "metadata": {
        "id": "U2GqDOHuYWJA",
        "colab": {
          "base_uri": "https://localhost:8080/"
        },
        "outputId": "8996c635-d6b7-4fdf-9e45-099d6752a9cc"
      },
      "execution_count": null,
      "outputs": [
        {
          "output_type": "stream",
          "name": "stdout",
          "text": [
            "enter the no. of rows4\n",
            "   * \n",
            "  * * \n",
            " * * * \n",
            "* * * * \n"
          ]
        }
      ]
    },
    {
      "cell_type": "code",
      "source": [
        "n=int(input('enter the no. of rows'))\n",
        "for i in range(n):\n",
        "  for j in range(n-i-1):\n",
        "    print(' ',end='')\n",
        "  for j in range(2*i+1):\n",
        "    print('*',end='')\n",
        "  print()"
      ],
      "metadata": {
        "id": "iSVBkkQYU0Gh",
        "colab": {
          "base_uri": "https://localhost:8080/"
        },
        "outputId": "1a87c9c4-3abf-4f4a-e0a2-604bb6ec4d86"
      },
      "execution_count": null,
      "outputs": [
        {
          "output_type": "stream",
          "name": "stdout",
          "text": [
            "enter the no. of rows5\n",
            "    *\n",
            "   ***\n",
            "  *****\n",
            " *******\n",
            "*********\n"
          ]
        }
      ]
    },
    {
      "cell_type": "code",
      "source": [
        "n=int(input('enter the no. of rows'))\n",
        "for i in range(n,0,-1):\n",
        "  for j in range(n-i):\n",
        "    print(' ',end='')\n",
        "  for j in range(i):\n",
        "    print('*',end=' ')\n",
        "  print()"
      ],
      "metadata": {
        "id": "QUFwxErRU0NQ",
        "colab": {
          "base_uri": "https://localhost:8080/"
        },
        "outputId": "5729c3f0-efc0-4d36-dbff-f0ae55983d49"
      },
      "execution_count": null,
      "outputs": [
        {
          "output_type": "stream",
          "name": "stdout",
          "text": [
            "enter the no. of rows5\n",
            "* * * * * \n",
            " * * * * \n",
            "  * * * \n",
            "   * * \n",
            "    * \n"
          ]
        }
      ]
    },
    {
      "cell_type": "code",
      "source": [
        "n=int(input('enter the no. of rows'))\n",
        "for i in range(n,0,-1):\n",
        "  for j in range(n-i):\n",
        "    print(' ',end='')\n",
        "  for j in range(2*i-1):\n",
        "    print('*',end='')\n",
        "  print()"
      ],
      "metadata": {
        "colab": {
          "base_uri": "https://localhost:8080/"
        },
        "id": "aqirvwX80MtH",
        "outputId": "e33bfce4-7b4c-43ed-fba6-e7130e6c417b"
      },
      "execution_count": null,
      "outputs": [
        {
          "output_type": "stream",
          "name": "stdout",
          "text": [
            "enter the no. of rows5\n",
            "*********\n",
            " *******\n",
            "  *****\n",
            "   ***\n",
            "    *\n"
          ]
        }
      ]
    },
    {
      "cell_type": "code",
      "source": [
        "n=10\n",
        "i=0\n",
        "while i<n:\n",
        "  print(' '*(n-i-1)+'*'*(2*i+1))\n",
        "  i=i+1"
      ],
      "metadata": {
        "colab": {
          "base_uri": "https://localhost:8080/"
        },
        "id": "5UMfCndM0Mx0",
        "outputId": "51e1b5c9-5449-4bbf-942e-1b83ed1cfe8b"
      },
      "execution_count": null,
      "outputs": [
        {
          "output_type": "stream",
          "name": "stdout",
          "text": [
            "         *\n",
            "        ***\n",
            "       *****\n",
            "      *******\n",
            "     *********\n",
            "    ***********\n",
            "   *************\n",
            "  ***************\n",
            " *****************\n",
            "*******************\n"
          ]
        }
      ]
    },
    {
      "cell_type": "code",
      "source": [
        "n=10\n",
        "i=0\n",
        "while i<n:\n",
        "  print(' '*(n-i-1)+'* '*(i+1))\n",
        "  i=i+1"
      ],
      "metadata": {
        "colab": {
          "base_uri": "https://localhost:8080/"
        },
        "id": "YANHzVpr0M2W",
        "outputId": "79cc80c0-8c4b-4875-ecc8-325907e29fa4"
      },
      "execution_count": null,
      "outputs": [
        {
          "output_type": "stream",
          "name": "stdout",
          "text": [
            "         * \n",
            "        * * \n",
            "       * * * \n",
            "      * * * * \n",
            "     * * * * * \n",
            "    * * * * * * \n",
            "   * * * * * * * \n",
            "  * * * * * * * * \n",
            " * * * * * * * * * \n",
            "* * * * * * * * * * \n"
          ]
        }
      ]
    },
    {
      "cell_type": "code",
      "source": [
        ""
      ],
      "metadata": {
        "id": "9Ae4UoVa-KcX"
      },
      "execution_count": null,
      "outputs": []
    },
    {
      "cell_type": "code",
      "source": [
        ""
      ],
      "metadata": {
        "id": "K_PfNGqA-Kh7"
      },
      "execution_count": null,
      "outputs": []
    },
    {
      "cell_type": "code",
      "source": [
        ""
      ],
      "metadata": {
        "id": "f4PrshQiU0S8"
      },
      "execution_count": null,
      "outputs": []
    },
    {
      "cell_type": "code",
      "source": [
        ""
      ],
      "metadata": {
        "id": "la5mVftAAxEx"
      },
      "execution_count": null,
      "outputs": []
    },
    {
      "cell_type": "code",
      "source": [
        ""
      ],
      "metadata": {
        "id": "gNb1H4Ot-1fX"
      },
      "execution_count": null,
      "outputs": []
    },
    {
      "cell_type": "code",
      "source": [
        ""
      ],
      "metadata": {
        "id": "AwGsydW0-1lH"
      },
      "execution_count": null,
      "outputs": []
    },
    {
      "cell_type": "code",
      "source": [
        ""
      ],
      "metadata": {
        "id": "WVqTUESt-Mhu"
      },
      "execution_count": null,
      "outputs": []
    },
    {
      "cell_type": "code",
      "source": [
        ""
      ],
      "metadata": {
        "id": "YjuP4GfPI--X"
      },
      "execution_count": null,
      "outputs": []
    },
    {
      "cell_type": "code",
      "source": [
        ""
      ],
      "metadata": {
        "id": "N81JI5-lI_Ef"
      },
      "execution_count": null,
      "outputs": []
    }
  ]
}