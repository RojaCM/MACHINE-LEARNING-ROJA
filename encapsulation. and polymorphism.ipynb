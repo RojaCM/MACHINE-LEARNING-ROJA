{
  "nbformat": 4,
  "nbformat_minor": 0,
  "metadata": {
    "colab": {
      "name": "Untitled149.ipynb",
      "provenance": [],
      "authorship_tag": "ABX9TyO/Aq49IBrJgcklFqAzE2G3",
      "include_colab_link": true
    },
    "kernelspec": {
      "name": "python3",
      "display_name": "Python 3"
    },
    "language_info": {
      "name": "python"
    }
  },
  "cells": [
    {
      "cell_type": "markdown",
      "metadata": {
        "id": "view-in-github",
        "colab_type": "text"
      },
      "source": [
        "<a href=\"https://colab.research.google.com/github/RojaCM/MACHINE-LEARNING-ROJA/blob/main/encapsulation.%20and%20polymorphism.ipynb\" target=\"_parent\"><img src=\"https://colab.research.google.com/assets/colab-badge.svg\" alt=\"Open In Colab\"/></a>"
      ]
    },
    {
      "cell_type": "markdown",
      "source": [
        "ENCAPSULATION IN PYTHON\n"
      ],
      "metadata": {
        "id": "D2C1jLbsJ3I1"
      }
    },
    {
      "cell_type": "markdown",
      "source": [
        "ENCAPSULATION is the most fundamental concepts in OOP.It describes the idea of wrapping the data and methods that work on data within one uint.\n",
        "It puts restrications on accessing the variables and methods directly and can prevent accindental modification of data.To prevent accidental change,an object's variable can only be \n",
        "changed by an objects's method.Those types of variables are know as private variables\n"
      ],
      "metadata": {
        "id": "A6oCUMUQOAML"
      }
    },
    {
      "cell_type": "markdown",
      "source": [
        "Consider a real-life example of encapsulation, in a company, there are different sections like the accounts section, finance section, sales section etc. The finance section handles all the financial transactions and keeps records of all the data related to finance. Similarly, the sales section handles all the sales-related activities and keeps records of all the sales. Now there may arise a situation when for some reason an official from the finance section needs all the data about sales in a particular month. In this case, he is not allowed to directly access the data of the sales section. He will first have to contact some other officer in the sales section and then request him to give the particular data. This is what encapsulation is. Here the data of the sales section and the employees that can manipulate them are wrapped under a single name “sales section”. Using encapsulation also hides the data. In this example, the data of the sections like sales, finance, or accounts are hidden from any other section."
      ],
      "metadata": {
        "id": "07I4biUxOAX1"
      }
    },
    {
      "cell_type": "markdown",
      "source": [
        "Protected members (in C++ and JAVA) are those members of the class that cannot be accessed outside the class but can be accessed from within the class and its subclasses. To accomplish this in Python, just follow the convention by prefixing the name of the member by a single underscore “_”.\n",
        "\n",
        "Although the protected variable can be accessed out of the class as well as in the derived class(modified too in derived class), it is customary(convention not a rule) to not access the protected out the class body.\n",
        "\n",
        "Note: The __init__ method is a constructor and runs as soon as an object of a class is instantiated.  "
      ],
      "metadata": {
        "id": "60elJGJWOAgG"
      }
    },
    {
      "cell_type": "code",
      "source": [
        "class a1:\n",
        "  def __init__(self):\n",
        "    #protected variable\n",
        "\n",
        "    self._a=30\n",
        "\n",
        "class a2(a1):\n",
        "  def __init__(self):\n",
        "\n",
        "    a1.__init__(self)\n",
        "\n",
        "    #accssing the protected variable\n",
        "\n",
        "    print('accessing the protected variable :',self._a)\n",
        "\n",
        "    #modifying the protected variable \n",
        "\n",
        "    self._a=50\n",
        "\n",
        "    print('modified protected variable inside the child class',self._a)\n",
        "\n",
        "\n",
        "#object creation for parent class\n",
        "c1=a1()\n",
        "#object creation for child class\n",
        "c2=a2()\n",
        "\n",
        "#accessing the protected variable outside the class\n",
        "print('accsing the variable outside the calss',c1._a)"
      ],
      "metadata": {
        "colab": {
          "base_uri": "https://localhost:8080/"
        },
        "id": "Bc3SmGDMOAlJ",
        "outputId": "833de22a-e9fc-41ee-88b1-670291b6e07f"
      },
      "execution_count": null,
      "outputs": [
        {
          "output_type": "stream",
          "name": "stdout",
          "text": [
            "accessing the protected variable : 30\n",
            "modified protected variable inside the child class 50\n",
            "accsing the variable outside the calss 30\n"
          ]
        }
      ]
    },
    {
      "cell_type": "markdown",
      "source": [
        "Private members : simlilar to the protected members but should not be accessed outside the classes as well from childclass as well\n",
        "slef.__variable name\n"
      ],
      "metadata": {
        "id": "rNV-2O8COAot"
      }
    },
    {
      "cell_type": "code",
      "source": [
        "# Python program to\n",
        "# demonstrate private members\n",
        " \n",
        "# Creating a Base class\n",
        " \n",
        " \n",
        "class Base:\n",
        "    def __init__(self):\n",
        "        self.a = \"GeeksforGeeks\"\n",
        "        self.__c = \"GeeksforGeeks\"\n",
        " \n",
        "# Creating a derived class\n",
        "class Derived(Base):\n",
        "    def __init__(self):\n",
        " \n",
        "        # Calling constructor of\n",
        "        # Base class\n",
        "        Base.__init__(self)\n",
        "        print(\"Calling private member of base class: \")\n",
        "        print(self.__c)\n",
        " \n",
        " \n",
        "# Driver code\n",
        "obj1 = Base()\n",
        "print(obj1.a)\n",
        " \n",
        "# Uncommenting print(obj1.c) will\n",
        "# raise an AttributeError\n",
        " \n",
        "# Uncommenting obj2 = Derived() will\n",
        "# also raise an AtrributeError as\n",
        "# private member of base class\n",
        "# is called inside derived class"
      ],
      "metadata": {
        "colab": {
          "base_uri": "https://localhost:8080/"
        },
        "id": "l660Xc0_pMZD",
        "outputId": "257ee518-751a-4315-fba0-9a54c6f17b4b"
      },
      "execution_count": null,
      "outputs": [
        {
          "output_type": "stream",
          "name": "stdout",
          "text": [
            "GeeksforGeeks\n"
          ]
        }
      ]
    },
    {
      "cell_type": "code",
      "source": [
        "print(obj1.__c)"
      ],
      "metadata": {
        "colab": {
          "base_uri": "https://localhost:8080/",
          "height": 165
        },
        "id": "Fpdw42f0pND4",
        "outputId": "9c8f7406-1995-4ff2-cdc7-536c1571ecef"
      },
      "execution_count": null,
      "outputs": [
        {
          "output_type": "error",
          "ename": "AttributeError",
          "evalue": "ignored",
          "traceback": [
            "\u001b[0;31m---------------------------------------------------------------------------\u001b[0m",
            "\u001b[0;31mAttributeError\u001b[0m                            Traceback (most recent call last)",
            "\u001b[0;32m<ipython-input-6-062dd7bb5098>\u001b[0m in \u001b[0;36m<module>\u001b[0;34m()\u001b[0m\n\u001b[0;32m----> 1\u001b[0;31m \u001b[0mprint\u001b[0m\u001b[0;34m(\u001b[0m\u001b[0mobj1\u001b[0m\u001b[0;34m.\u001b[0m\u001b[0m__c\u001b[0m\u001b[0;34m)\u001b[0m\u001b[0;34m\u001b[0m\u001b[0;34m\u001b[0m\u001b[0m\n\u001b[0m",
            "\u001b[0;31mAttributeError\u001b[0m: 'Base' object has no attribute '__c'"
          ]
        }
      ]
    },
    {
      "cell_type": "code",
      "source": [
        "obj2=Derived()"
      ],
      "metadata": {
        "colab": {
          "base_uri": "https://localhost:8080/",
          "height": 304
        },
        "id": "kObUDTjqpON6",
        "outputId": "e9bacfc1-fb06-4caf-e78f-8b9755d9f7d8"
      },
      "execution_count": null,
      "outputs": [
        {
          "output_type": "stream",
          "name": "stdout",
          "text": [
            "Calling private member of base class: \n"
          ]
        },
        {
          "output_type": "error",
          "ename": "AttributeError",
          "evalue": "ignored",
          "traceback": [
            "\u001b[0;31m---------------------------------------------------------------------------\u001b[0m",
            "\u001b[0;31mAttributeError\u001b[0m                            Traceback (most recent call last)",
            "\u001b[0;32m<ipython-input-7-84db25e6c108>\u001b[0m in \u001b[0;36m<module>\u001b[0;34m()\u001b[0m\n\u001b[0;32m----> 1\u001b[0;31m \u001b[0mobj2\u001b[0m\u001b[0;34m=\u001b[0m\u001b[0mDerived\u001b[0m\u001b[0;34m(\u001b[0m\u001b[0;34m)\u001b[0m\u001b[0;34m\u001b[0m\u001b[0;34m\u001b[0m\u001b[0m\n\u001b[0m",
            "\u001b[0;32m<ipython-input-2-10f44cd18bf0>\u001b[0m in \u001b[0;36m__init__\u001b[0;34m(self)\u001b[0m\n\u001b[1;32m     18\u001b[0m         \u001b[0mBase\u001b[0m\u001b[0;34m.\u001b[0m\u001b[0m__init__\u001b[0m\u001b[0;34m(\u001b[0m\u001b[0mself\u001b[0m\u001b[0;34m)\u001b[0m\u001b[0;34m\u001b[0m\u001b[0;34m\u001b[0m\u001b[0m\n\u001b[1;32m     19\u001b[0m         \u001b[0mprint\u001b[0m\u001b[0;34m(\u001b[0m\u001b[0;34m\"Calling private member of base class: \"\u001b[0m\u001b[0;34m)\u001b[0m\u001b[0;34m\u001b[0m\u001b[0;34m\u001b[0m\u001b[0m\n\u001b[0;32m---> 20\u001b[0;31m         \u001b[0mprint\u001b[0m\u001b[0;34m(\u001b[0m\u001b[0mself\u001b[0m\u001b[0;34m.\u001b[0m\u001b[0m__c\u001b[0m\u001b[0;34m)\u001b[0m\u001b[0;34m\u001b[0m\u001b[0;34m\u001b[0m\u001b[0m\n\u001b[0m\u001b[1;32m     21\u001b[0m \u001b[0;34m\u001b[0m\u001b[0m\n\u001b[1;32m     22\u001b[0m \u001b[0;34m\u001b[0m\u001b[0m\n",
            "\u001b[0;31mAttributeError\u001b[0m: 'Derived' object has no attribute '_Derived__c'"
          ]
        }
      ]
    },
    {
      "cell_type": "markdown",
      "source": [
        "POLYMORPHISM :MANY FORMS .SAME FUNCTION NAME BEING USED FOR DIFFERENT TYPES"
      ],
      "metadata": {
        "id": "cRQHBTszpkMB"
      }
    },
    {
      "cell_type": "code",
      "source": [
        "#INBULIT POLYMORPHIC FUNCTIONS\n",
        "#LEN () FUNCTION\n",
        "\n",
        "print(len('rojacm'))\n",
        "print(len([10,20,30]))\n"
      ],
      "metadata": {
        "id": "kH49cHGpBgC6",
        "outputId": "878c97e3-1566-428d-b682-31d180fa180a",
        "colab": {
          "base_uri": "https://localhost:8080/"
        }
      },
      "execution_count": 1,
      "outputs": [
        {
          "output_type": "stream",
          "name": "stdout",
          "text": [
            "6\n",
            "3\n"
          ]
        }
      ]
    },
    {
      "cell_type": "code",
      "source": [
        "#user defined polymorphic functions\n",
        "def add(a,b,c=0):\n",
        "   return a+b+c\n",
        "\n",
        "\n",
        "add(4,5,6)\n"
      ],
      "metadata": {
        "id": "gGtDF6WmCSST",
        "outputId": "2cc12dae-64e6-4c41-d9b6-3593f4da3eda",
        "colab": {
          "base_uri": "https://localhost:8080/"
        }
      },
      "execution_count": 5,
      "outputs": [
        {
          "output_type": "execute_result",
          "data": {
            "text/plain": [
              "15"
            ]
          },
          "metadata": {},
          "execution_count": 5
        }
      ]
    },
    {
      "cell_type": "code",
      "source": [
        "add(2,3)"
      ],
      "metadata": {
        "id": "fZLjk3qPCywk",
        "outputId": "2e42c7d0-bba2-4d5e-ccbb-1ffae4c39640",
        "colab": {
          "base_uri": "https://localhost:8080/"
        }
      },
      "execution_count": 4,
      "outputs": [
        {
          "output_type": "execute_result",
          "data": {
            "text/plain": [
              "5"
            ]
          },
          "metadata": {},
          "execution_count": 4
        }
      ]
    },
    {
      "cell_type": "markdown",
      "source": [
        "Polymorphism with class methods: "
      ],
      "metadata": {
        "id": "FCxDhbghC2lB"
      }
    },
    {
      "cell_type": "code",
      "source": [
        "class India:\n",
        "  def capital(self):\n",
        "    print('new delhi is the capital of India')\n",
        "  \n",
        "  def language(Self):\n",
        "    print('hindi is the most widely spoken language of India')\n",
        "\n",
        "  def type(self):\n",
        "    print('India is devloping country')\n",
        "\n",
        "class USA:\n",
        "  def capital(self):\n",
        "    print('washnigton d.c is the capital of USA')\n",
        "\n",
        "  def language(self):\n",
        "    print('english is the primary language of USA')\n",
        "  \n",
        "  def type(Self):\n",
        "    print('USA is a developed country')\n",
        "\n",
        "obj1=India()\n",
        "obj2=USA()\n",
        "\n",
        "for i in (obj1,obj2):\n",
        "  i.capital()\n",
        "  i.language()\n",
        "  i.type()"
      ],
      "metadata": {
        "id": "49sqHGUuqar4",
        "outputId": "89aff88b-41a4-4b07-fbcb-e57d22f95866",
        "colab": {
          "base_uri": "https://localhost:8080/"
        }
      },
      "execution_count": 3,
      "outputs": [
        {
          "output_type": "stream",
          "name": "stdout",
          "text": [
            "new delhi is the capital of India\n",
            "hindi is the most widely spoken language of India\n",
            "India is devloping country\n",
            "washnigton d.c is the capital of USA\n",
            "english is the primary language of USA\n",
            "USA is a developed country\n"
          ]
        }
      ]
    },
    {
      "cell_type": "markdown",
      "source": [
        "Polymorphism with Inheritance: Polymorphism let us define the methods in the child class which that have the as the same name as the methods  in the parent class .In inheritance the child class inherits \n",
        "the properties/methods from the parent class .However it is possible to modify the methods in a child class that it has inherited from the parent class .This is particularly useful in cases where the method inherited from the parent class doesn’t quite fit the child class\n",
        "\n",
        "The process of reimplementing the method in the child class is known as method overiding"
      ],
      "metadata": {
        "id": "hh8bxYtQqaut"
      }
    },
    {
      "cell_type": "code",
      "source": [
        "class Bird:\n",
        "  def intro(self):\n",
        "    print(\"There are many types of birds.\")\n",
        "     \n",
        "  def flight(self):\n",
        "    print(\"Most of the birds can fly but some cannot.\")\n",
        "   \n",
        "class sparrow(Bird):\n",
        "  def flight(self):\n",
        "    print(\"Sparrows can fly.\")\n",
        "     \n",
        "class ostrich(Bird):\n",
        "  def flight(self):\n",
        "    print(\"Ostriches cannot fly.\")\n",
        "     \n",
        "obj_bird = Bird()\n",
        "obj_spr = sparrow()\n",
        "obj_ost = ostrich()\n",
        " \n",
        "obj_bird.intro()\n",
        "obj_bird.flight()\n",
        " \n",
        "obj_spr.intro()\n",
        "obj_spr.flight()\n",
        " \n",
        "obj_ost.intro()\n",
        "obj_ost.flight()"
      ],
      "metadata": {
        "id": "Xh-NlMBEz-aB",
        "outputId": "77953037-59c4-4b38-cb07-300bd7a3649f",
        "colab": {
          "base_uri": "https://localhost:8080/"
        }
      },
      "execution_count": 7,
      "outputs": [
        {
          "output_type": "stream",
          "name": "stdout",
          "text": [
            "There are many types of birds.\n",
            "Most of the birds can fly but some cannot.\n",
            "There are many types of birds.\n",
            "Sparrows can fly.\n",
            "There are many types of birds.\n",
            "Ostriches cannot fly.\n"
          ]
        }
      ]
    },
    {
      "cell_type": "markdown",
      "source": [
        "Polymorphism with a Function and objects:  It is possible to create a function that take an any object .\n",
        "\n"
      ],
      "metadata": {
        "id": "1kE0YGVL0APY"
      }
    },
    {
      "cell_type": "code",
      "source": [
        "def func(obj):\n",
        "  obj.capital()\n",
        "  obj.language()\n",
        "  obj.type()\n",
        "\n",
        "\n",
        "obj_ind=India()\n",
        "obj_usa=USA()\n",
        "\n",
        "func(obj_ind)\n",
        "func(obj_usa)"
      ],
      "metadata": {
        "id": "DSBQSyzP1P6F",
        "outputId": "e94fbc07-8f97-4772-d39c-7e190012661d",
        "colab": {
          "base_uri": "https://localhost:8080/"
        }
      },
      "execution_count": 10,
      "outputs": [
        {
          "output_type": "stream",
          "name": "stdout",
          "text": [
            "new delhi is the capital of India\n",
            "hindi is the most widely spoken language of India\n",
            "India is devloping country\n",
            "washnigton d.c is the capital of USA\n",
            "english is the primary language of USA\n",
            "USA is a developed country\n"
          ]
        }
      ]
    },
    {
      "cell_type": "code",
      "source": [
        ""
      ],
      "metadata": {
        "id": "fcxKoRdK1RX8"
      },
      "execution_count": null,
      "outputs": []
    },
    {
      "cell_type": "code",
      "source": [
        ""
      ],
      "metadata": {
        "id": "y__eUDkS1RhN"
      },
      "execution_count": null,
      "outputs": []
    }
  ]
}