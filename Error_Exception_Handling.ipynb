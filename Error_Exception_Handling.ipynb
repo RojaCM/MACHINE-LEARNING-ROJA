{
  "nbformat": 4,
  "nbformat_minor": 0,
  "metadata": {
    "colab": {
      "name": "Error Exception Handling.ipynb",
      "provenance": [],
      "authorship_tag": "ABX9TyNU9yCtjg7MwOEBsoXPCbhK",
      "include_colab_link": true
    },
    "kernelspec": {
      "name": "python3",
      "display_name": "Python 3"
    },
    "language_info": {
      "name": "python"
    }
  },
  "cells": [
    {
      "cell_type": "markdown",
      "metadata": {
        "id": "view-in-github",
        "colab_type": "text"
      },
      "source": [
        "<a href=\"https://colab.research.google.com/github/RojaCM/MACHINE-LEARNING-ROJA/blob/main/Error_Exception_Handling.ipynb\" target=\"_parent\"><img src=\"https://colab.research.google.com/assets/colab-badge.svg\" alt=\"Open In Colab\"/></a>"
      ]
    },
    {
      "cell_type": "code",
      "execution_count": null,
      "metadata": {
        "id": "vp0KLk-VWk7a"
      },
      "outputs": [],
      "source": [
        "import pandas as pd"
      ]
    },
    {
      "cell_type": "code",
      "source": [
        "try:\n",
        "  a=20+30\n",
        "except:\n",
        "  print('there is problem in adding the numbers')\n",
        "else:\n",
        "  print('addition went well')\n",
        "  print(a)"
      ],
      "metadata": {
        "colab": {
          "base_uri": "https://localhost:8080/"
        },
        "id": "2U-MeWABWmci",
        "outputId": "e5d4dc20-590a-4e46-db34-acef302e7bda"
      },
      "execution_count": null,
      "outputs": [
        {
          "output_type": "stream",
          "name": "stdout",
          "text": [
            "addition went well\n",
            "50\n"
          ]
        }
      ]
    },
    {
      "cell_type": "code",
      "source": [
        "try:\n",
        "  f=open('testfile','w')\n",
        "  f.write('this is a test file')\n",
        "except:\n",
        "  print('error occur in writing into the file')\n",
        "finally:\n",
        "  print('it always run')"
      ],
      "metadata": {
        "colab": {
          "base_uri": "https://localhost:8080/"
        },
        "id": "ATK4oLUNXqCo",
        "outputId": "8b3f54f0-b25f-49e4-8a86-cd5b813efbc6"
      },
      "execution_count": null,
      "outputs": [
        {
          "output_type": "stream",
          "name": "stdout",
          "text": [
            "it always run\n"
          ]
        }
      ]
    },
    {
      "cell_type": "code",
      "source": [
        "#how to use a try and except block inside the function\n",
        "def ask_for_int():\n",
        "  try:\n",
        "    result=int(input('enter a number'))\n",
        "  except:\n",
        "    print('that is not a number')\n",
        "  finally:\n",
        "    print('end try/except/finally')"
      ],
      "metadata": {
        "id": "we1nOMMKXtL2"
      },
      "execution_count": null,
      "outputs": []
    },
    {
      "cell_type": "code",
      "source": [
        "ask_for_int()"
      ],
      "metadata": {
        "colab": {
          "base_uri": "https://localhost:8080/"
        },
        "id": "_2Ue_NFiXw1X",
        "outputId": "bf881c76-6248-452a-f6dc-1c8baa661201"
      },
      "execution_count": null,
      "outputs": [
        {
          "output_type": "stream",
          "name": "stdout",
          "text": [
            "enter a number45\n",
            "end try/except/finally\n"
          ]
        }
      ]
    },
    {
      "cell_type": "code",
      "source": [
        "ask_for_int()"
      ],
      "metadata": {
        "colab": {
          "base_uri": "https://localhost:8080/"
        },
        "id": "FvP-AYOoXxm2",
        "outputId": "8d128cd2-8c07-4082-c57b-7c022872b53b"
      },
      "execution_count": null,
      "outputs": [
        {
          "output_type": "stream",
          "name": "stdout",
          "text": [
            "enter a numberROJA\n",
            "that is not a number\n",
            "end try/except/finally\n"
          ]
        }
      ]
    },
    {
      "cell_type": "code",
      "source": [
        "#how to use a try and except block inside the function\n",
        "def ask_for_int():\n",
        "  while True:   \n",
        "      try:\n",
        "        result=int(input('enter a number'))\n",
        "      except:\n",
        "        print('that is not a number')\n",
        "        continue\n",
        "      else:\n",
        "        print('thank you')\n",
        "        break\n",
        "      finally:\n",
        "        print('end try/except/finally')"
      ],
      "metadata": {
        "id": "Il5DqzH7XxrF"
      },
      "execution_count": null,
      "outputs": []
    },
    {
      "cell_type": "code",
      "source": [
        " ask_for_int()"
      ],
      "metadata": {
        "colab": {
          "base_uri": "https://localhost:8080/"
        },
        "id": "shiZj8gDXxv5",
        "outputId": "21b81ddf-0603-452e-9434-e2eba855bdc3"
      },
      "execution_count": null,
      "outputs": [
        {
          "output_type": "stream",
          "name": "stdout",
          "text": [
            "enter a number45\n",
            "thank you\n",
            "end try/except/finally\n"
          ]
        }
      ]
    },
    {
      "cell_type": "code",
      "source": [
        "ask_for_int()"
      ],
      "metadata": {
        "colab": {
          "base_uri": "https://localhost:8080/"
        },
        "id": "1TZ1HljpYhdW",
        "outputId": "fab5dcfd-2936-492f-993b-ba9db84da8c4"
      },
      "execution_count": null,
      "outputs": [
        {
          "output_type": "stream",
          "name": "stdout",
          "text": [
            "enter a numberroja\n",
            "that is not a number\n",
            "end try/except/finally\n",
            "enter a numberroja\n",
            "that is not a number\n",
            "end try/except/finally\n",
            "enter a number45\n",
            "thank you\n",
            "end try/except/finally\n"
          ]
        }
      ]
    },
    {
      "cell_type": "code",
      "source": [
        "#ask a integer and prints square of an integer\n",
        "def ask_a_int():\n",
        "  while True:\n",
        "    try:\n",
        "      a=int(input('enter an integer:'))\n",
        "      return a*a\n",
        "    except:\n",
        "      print('number is not an integer')\n",
        "      continue\n",
        "    else:\n",
        "      print('the square of an integer is returned')\n",
        "      break\n",
        "    finally:\n",
        "      print('end try/except/finally')\n",
        "    \n"
      ],
      "metadata": {
        "id": "O726eNuRYqBe"
      },
      "execution_count": null,
      "outputs": []
    },
    {
      "cell_type": "code",
      "source": [
        "ask_a_int()"
      ],
      "metadata": {
        "colab": {
          "base_uri": "https://localhost:8080/"
        },
        "id": "RQ9NYemJnVkC",
        "outputId": "3dcb3d6e-ab07-4d93-ffdf-1e865aab7d28"
      },
      "execution_count": null,
      "outputs": [
        {
          "output_type": "stream",
          "name": "stdout",
          "text": [
            "enter an integer:7\n",
            "end try/except/finally\n"
          ]
        },
        {
          "output_type": "execute_result",
          "data": {
            "text/plain": [
              "49"
            ]
          },
          "metadata": {},
          "execution_count": 18
        }
      ]
    },
    {
      "cell_type": "code",
      "source": [
        "ask_a_int()"
      ],
      "metadata": {
        "colab": {
          "base_uri": "https://localhost:8080/"
        },
        "id": "URjrZZudnX53",
        "outputId": "fdfe09e0-e675-401b-8503-b8d5bbb102f5"
      },
      "execution_count": null,
      "outputs": [
        {
          "output_type": "stream",
          "name": "stdout",
          "text": [
            "enter an integer:r\n",
            "number is not an integer\n",
            "end try/except/finally\n",
            "enter an integer:e\n",
            "number is not an integer\n",
            "end try/except/finally\n",
            "enter an integer:3\n",
            "end try/except/finally\n"
          ]
        },
        {
          "output_type": "execute_result",
          "data": {
            "text/plain": [
              "9"
            ]
          },
          "metadata": {},
          "execution_count": 19
        }
      ]
    },
    {
      "cell_type": "code",
      "source": [
        "try:\n",
        "  for i in ['a','b','c']:\n",
        "    print(i**i)\n",
        "except TypeError:\n",
        "  print('expeption occured')\n",
        "\n"
      ],
      "metadata": {
        "colab": {
          "base_uri": "https://localhost:8080/"
        },
        "id": "Op3xF61AnbCo",
        "outputId": "ee74ba32-6d90-47aa-edf1-db241c581a83"
      },
      "execution_count": null,
      "outputs": [
        {
          "output_type": "stream",
          "name": "stdout",
          "text": [
            "expeption occured\n"
          ]
        }
      ]
    },
    {
      "cell_type": "code",
      "source": [
        "x=5\n",
        "y=0\n",
        "try:\n",
        "  z=x/y\n",
        "except ZeroDivisionError:\n",
        "  print('the input variable holds zero value')\n"
      ],
      "metadata": {
        "colab": {
          "base_uri": "https://localhost:8080/"
        },
        "id": "GG7nX7twnheP",
        "outputId": "c67f2ffe-1664-44c3-b663-30cf1f707d34"
      },
      "execution_count": null,
      "outputs": [
        {
          "output_type": "stream",
          "name": "stdout",
          "text": [
            "the input variable holds zero value\n"
          ]
        }
      ]
    },
    {
      "cell_type": "code",
      "source": [
        ""
      ],
      "metadata": {
        "id": "MBqZ5iuVnhkL"
      },
      "execution_count": null,
      "outputs": []
    },
    {
      "cell_type": "code",
      "source": [
        ""
      ],
      "metadata": {
        "id": "Ih2uKLutnbID"
      },
      "execution_count": null,
      "outputs": []
    }
  ]
}