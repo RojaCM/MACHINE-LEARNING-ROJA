{
  "nbformat": 4,
  "nbformat_minor": 0,
  "metadata": {
    "colab": {
      "name": "Untitled141.ipynb",
      "provenance": [],
      "authorship_tag": "ABX9TyPpueQBUS6HTJFUVI3p2805",
      "include_colab_link": true
    },
    "kernelspec": {
      "name": "python3",
      "display_name": "Python 3"
    },
    "language_info": {
      "name": "python"
    }
  },
  "cells": [
    {
      "cell_type": "markdown",
      "metadata": {
        "id": "view-in-github",
        "colab_type": "text"
      },
      "source": [
        "<a href=\"https://colab.research.google.com/github/RojaCM/MACHINE-LEARNING-ROJA/blob/main/OOPS%20Class%20AND%20Objects%20.ipynb\" target=\"_parent\"><img src=\"https://colab.research.google.com/assets/colab-badge.svg\" alt=\"Open In Colab\"/></a>"
      ]
    },
    {
      "cell_type": "markdown",
      "source": [
        "Class is a bluprint for an object ,contains user defined well structure contains own features/attributes and methods\n",
        "From class we can create object .Object contain state/attributes,behaviour/method,identity(name of the object)\n",
        "When an object is created ,the class is said to be instantiated .All the objects share the behaviour and attribute of the class . A single class may have any number of objects\n"
      ],
      "metadata": {
        "id": "gLDSLolQ0O6v"
      }
    },
    {
      "cell_type": "markdown",
      "source": [
        "init method is constructor in class.it is used to initialize the object attributes.Constuctor also contains set of statements which are excuted at the time of object creation ."
      ],
      "metadata": {
        "id": "2Yv9juz119Zc"
      }
    },
    {
      "cell_type": "code",
      "source": [
        "#Class is created by using the keyword 'CLASS'\n",
        "class dog:\n",
        "  a1='pug'\n",
        "  a2=5\n",
        "\n",
        "#creation of object d1 for the class dog\n",
        "\n",
        "d1=dog()\n",
        "print(d1.a1)\n",
        "print(d1.a2)"
      ],
      "metadata": {
        "colab": {
          "base_uri": "https://localhost:8080/"
        },
        "id": "8OJ_SinI19jn",
        "outputId": "6399aef2-d8aa-4416-aa0a-0f0c3cde428a"
      },
      "execution_count": null,
      "outputs": [
        {
          "output_type": "stream",
          "name": "stdout",
          "text": [
            "pug\n",
            "5\n"
          ]
        }
      ]
    },
    {
      "cell_type": "code",
      "source": [
        "#init method to intialize the varibales to the object\n",
        "\n",
        "class doggy():\n",
        "\n",
        "  def __init__(self,b1,b2):\n",
        "    self.name=b1\n",
        "    self.age=b2\n",
        "\n",
        "#object creation\n",
        "\n",
        "o1=doggy(b2=6,b1='rodger')\n",
        "o2=doggy('pug',8)\n",
        "\n"
      ],
      "metadata": {
        "id": "ORKGXYAo19p8"
      },
      "execution_count": null,
      "outputs": []
    },
    {
      "cell_type": "code",
      "source": [
        "print(o1.name,o1.age)"
      ],
      "metadata": {
        "colab": {
          "base_uri": "https://localhost:8080/"
        },
        "id": "VJYaFTHL36CK",
        "outputId": "b871a93e-a1c5-49c4-e2ec-a6e63e206177"
      },
      "execution_count": null,
      "outputs": [
        {
          "output_type": "stream",
          "name": "stdout",
          "text": [
            "rodger 6\n"
          ]
        }
      ]
    },
    {
      "cell_type": "code",
      "source": [
        "print(o2.name,o2.age)"
      ],
      "metadata": {
        "colab": {
          "base_uri": "https://localhost:8080/"
        },
        "id": "hNLUYSpR36FU",
        "outputId": "4a614263-0290-4164-d995-16f4a4a16396"
      },
      "execution_count": null,
      "outputs": [
        {
          "output_type": "stream",
          "name": "stdout",
          "text": [
            "pug 8\n"
          ]
        }
      ]
    },
    {
      "cell_type": "markdown",
      "source": [
        "CLASS VARIBLE AND INSTANCE varibales\n",
        "\n",
        "Class variable are defined inside the class defination.It is public accessed by oject of the class\n",
        "Inatance variable are defined inside the method of the class ."
      ],
      "metadata": {
        "id": "r3C4Ngxk4-ZX"
      }
    },
    {
      "cell_type": "code",
      "source": [
        " #Python3 program to show that the variables with a value \n",
        "# assigned in the class declaration, are class variables and\n",
        "# variables inside methods and constructors are instance\n",
        "# variables.\n",
        "    \n",
        "# Class for Dog\n",
        "class Dog:\n",
        "   \n",
        "    # Class Variable\n",
        "    animal = 'dog'            \n",
        "   \n",
        "    # The init method or constructor\n",
        "    def __init__(self, breed, color):\n",
        "     \n",
        "        # Instance Variable    \n",
        "        self.breed = breed\n",
        "        self.color = color       \n",
        "    \n",
        "# Objects of Dog class\n",
        "Rodger = Dog(\"Pug\", \"brown\")\n",
        "Buzo = Dog(\"Bulldog\", \"black\")\n",
        " \n",
        "print('Rodger details:')  \n",
        "print('Rodger is a', Rodger.animal)\n",
        "print('Breed: ', Rodger.breed)\n",
        "print('Color: ', Rodger.color)\n",
        " \n",
        "print('\\nBuzo details:')  \n",
        "print('Buzo is a', Buzo.animal)\n",
        "print('Breed: ', Buzo.breed)\n",
        "print('Color: ', Buzo.color)\n",
        " \n",
        "# Class variables can be accessed using class\n",
        "# name also\n",
        "print(\"\\nAccessing class variable using class name\")\n",
        "print(Dog.animal)       \n"
      ],
      "metadata": {
        "colab": {
          "base_uri": "https://localhost:8080/"
        },
        "id": "8TuSxIWJ5ECw",
        "outputId": "478dabb6-4b9d-420c-ada1-af77486b33f0"
      },
      "execution_count": null,
      "outputs": [
        {
          "output_type": "stream",
          "name": "stdout",
          "text": [
            "Rodger details:\n",
            "Rodger is a dog\n",
            "Breed:  Pug\n",
            "Color:  brown\n",
            "\n",
            "Buzo details:\n",
            "Buzo is a dog\n",
            "Breed:  Bulldog\n",
            "Color:  black\n",
            "\n",
            "Accessing class variable using class name\n",
            "dog\n"
          ]
        }
      ]
    },
    {
      "cell_type": "markdown",
      "source": [
        "SET method is used to declare a instance variable\n",
        "\n",
        "Get method is used to return a instance variable"
      ],
      "metadata": {
        "id": "YJSfEBT75EIB"
      }
    },
    {
      "cell_type": "code",
      "source": [
        "\n",
        "\n",
        "  # Python3 program to show that we can create \n",
        "# instance variables inside methods\n",
        "    \n",
        "# Class for Dog\n",
        "class Dog:\n",
        "       \n",
        "    # Class Variable\n",
        "    animal = 'dog'     \n",
        "       \n",
        "    # The init method or constructor\n",
        "    def __init__(self, breed):\n",
        "           \n",
        "        # Instance Variable\n",
        "        self.breed = breed            \n",
        "   \n",
        "    # Adds an instance variable \n",
        "    def setColor(self, color):\n",
        "        self.color = color\n",
        "       \n",
        "    # Retrieves instance variable    \n",
        "    def getColor(self):    \n",
        "        return self.color   \n",
        "   \n",
        "# Driver Code\n",
        "Rodger = Dog(\"pug\")\n",
        "Rodger.setColor(\"brown\")\n",
        "print(Rodger.getColor()) "
      ],
      "metadata": {
        "colab": {
          "base_uri": "https://localhost:8080/"
        },
        "id": "smwLANkV6MgH",
        "outputId": "54bb2b9e-9fa2-4881-c852-25f65bd10b41"
      },
      "execution_count": null,
      "outputs": [
        {
          "output_type": "stream",
          "name": "stdout",
          "text": [
            "brown\n"
          ]
        }
      ]
    },
    {
      "cell_type": "code",
      "source": [
        "class y1:\n",
        "\n",
        "  def __init__(self,a1):\n",
        "    self.a=a1\n",
        "\n",
        "  def setc(self,color):\n",
        "    self.c=color\n",
        "  \n",
        "  def getc(self):\n",
        "    return self.c"
      ],
      "metadata": {
        "id": "mKCTgssf6PE6"
      },
      "execution_count": null,
      "outputs": []
    },
    {
      "cell_type": "code",
      "source": [
        "p1=y1('pug')\n",
        "p1.setc('red')\n",
        "print(p1.getc())"
      ],
      "metadata": {
        "colab": {
          "base_uri": "https://localhost:8080/"
        },
        "id": "9bH8gQJ36PJP",
        "outputId": "b941554d-64b6-4ff7-e177-5e02ad7573b2"
      },
      "execution_count": null,
      "outputs": [
        {
          "output_type": "stream",
          "name": "stdout",
          "text": [
            "red\n"
          ]
        }
      ]
    },
    {
      "cell_type": "markdown",
      "source": [
        "CONSTRUCTORS IN PYTHON"
      ],
      "metadata": {
        "id": "V8aZAAts6Mpa"
      }
    },
    {
      "cell_type": "markdown",
      "source": [
        "Constructors in python is used to instantiating the object .It is used to intialize the values/data members of the class when the object of the class is created. In python __init__ method is called condtructor and is always called when object is created\n",
        "\n",
        "Types of constructor :\n",
        "1.Default constructor:\n",
        "2.Parameterzied constructor"
      ],
      "metadata": {
        "id": "EHaG89sq9c4C"
      }
    },
    {
      "cell_type": "code",
      "source": [
        "#DEFAULT CONSTRUCTOR\n",
        "class r1:\n",
        "  #default constructor\n",
        "  def __init__(self):\n",
        "    self.r='roja'\n",
        "  \n",
        " # method to print the data members\n",
        "\n",
        "  def f1(self):\n",
        "    print(self.r)\n",
        "\n",
        "\n",
        "RR=r1()\n",
        "RR.f1()\n",
        "\n",
        "  "
      ],
      "metadata": {
        "id": "KwLaz2nk9c8C",
        "outputId": "758abe83-b96b-420f-a6dc-d281b854924a",
        "colab": {
          "base_uri": "https://localhost:8080/"
        }
      },
      "execution_count": 3,
      "outputs": [
        {
          "output_type": "stream",
          "name": "stdout",
          "text": [
            "roja\n"
          ]
        }
      ]
    },
    {
      "cell_type": "code",
      "source": [
        "#Parameterized constructor\n",
        "\n",
        "class a1:\n",
        "\n",
        "  #parameterized constructor\n",
        "  def __init__(self,f,s):\n",
        "    self.first=f\n",
        "    self.second=s\n",
        "\n",
        "  def printf(self):\n",
        "    print('first number is =',self.first)\n",
        "    print('second number is=',self.second)\n",
        "    print('addition of two number is=',self.addition)\n",
        "  \n",
        "  def cal(self):\n",
        "    self.addition=self.first+self.second\n",
        "   \n",
        "  \n",
        "\n",
        "add=a1(100,200)\n",
        "add.cal()\n",
        "add.printf()\n"
      ],
      "metadata": {
        "id": "QYMabmas9c_v",
        "outputId": "9e2f1d55-3ffc-4f3d-a527-54d28bbe8e8c",
        "colab": {
          "base_uri": "https://localhost:8080/"
        }
      },
      "execution_count": 6,
      "outputs": [
        {
          "output_type": "stream",
          "name": "stdout",
          "text": [
            "first number is = 100\n",
            "second number is= 200\n",
            "addition of two number is= 300\n"
          ]
        }
      ]
    },
    {
      "cell_type": "markdown",
      "source": [
        "DESTRUCTOR IN PYTHON : It is called when objects gets destroyed. In python destructor is not needed as much as in C++ because in python we have grabage collector which handles the memory management .\n",
        "The del() method in python act as destructor which is called when all references to the object have been deleted or when an object is garbage collected"
      ],
      "metadata": {
        "id": "vM_vAvDq9dDv"
      }
    },
    {
      "cell_type": "code",
      "source": [
        "#Python program to illustrate destructor\n",
        "class Employee:\n",
        " \n",
        "    # Initializing\n",
        "    def __init__(self):\n",
        "        print('Employee created.')\n",
        " \n",
        "    # Deleting (Calling destructor)\n",
        "    def __del__(self):\n",
        "        print('Destructor called, Employee deleted.')\n",
        " \n",
        "obj = Employee()\n",
        "del obj"
      ],
      "metadata": {
        "id": "-LChyiJh6MuV",
        "outputId": "aa48a325-fc8f-4e69-a1ca-e92186c11a4f",
        "colab": {
          "base_uri": "https://localhost:8080/"
        }
      },
      "execution_count": 7,
      "outputs": [
        {
          "output_type": "stream",
          "name": "stdout",
          "text": [
            "Employee created.\n",
            "Destructor called, Employee deleted.\n"
          ]
        }
      ]
    },
    {
      "cell_type": "code",
      "source": [
        ""
      ],
      "metadata": {
        "id": "kqC2WalN36J0"
      },
      "execution_count": null,
      "outputs": []
    },
    {
      "cell_type": "code",
      "source": [
        ""
      ],
      "metadata": {
        "id": "MPr_Je5f19tW"
      },
      "execution_count": null,
      "outputs": []
    }
  ]
}