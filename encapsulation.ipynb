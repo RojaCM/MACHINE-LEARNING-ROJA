{
  "nbformat": 4,
  "nbformat_minor": 0,
  "metadata": {
    "colab": {
      "name": "Untitled149.ipynb",
      "provenance": [],
      "authorship_tag": "ABX9TyMFWTG/O/kXFPJpKdLMQsRI",
      "include_colab_link": true
    },
    "kernelspec": {
      "name": "python3",
      "display_name": "Python 3"
    },
    "language_info": {
      "name": "python"
    }
  },
  "cells": [
    {
      "cell_type": "markdown",
      "metadata": {
        "id": "view-in-github",
        "colab_type": "text"
      },
      "source": [
        "<a href=\"https://colab.research.google.com/github/RojaCM/MACHINE-LEARNING-ROJA/blob/main/encapsulation.ipynb\" target=\"_parent\"><img src=\"https://colab.research.google.com/assets/colab-badge.svg\" alt=\"Open In Colab\"/></a>"
      ]
    },
    {
      "cell_type": "markdown",
      "source": [
        "ENCAPSULATION IN PYTHON\n"
      ],
      "metadata": {
        "id": "D2C1jLbsJ3I1"
      }
    },
    {
      "cell_type": "markdown",
      "source": [
        "ENCAPSULATION is the most fundamental concepts in OOP.It describes the idea of wrapping the data and methods that work on data within one uint.\n",
        "It puts restrications on accessing the variables and methods directly and can prevent accindental modification of data.To prevent accidental change,an object's variable can only be \n",
        "changed by an objects's method.Those types of variables are know as private variables\n"
      ],
      "metadata": {
        "id": "A6oCUMUQOAML"
      }
    },
    {
      "cell_type": "markdown",
      "source": [
        "Consider a real-life example of encapsulation, in a company, there are different sections like the accounts section, finance section, sales section etc. The finance section handles all the financial transactions and keeps records of all the data related to finance. Similarly, the sales section handles all the sales-related activities and keeps records of all the sales. Now there may arise a situation when for some reason an official from the finance section needs all the data about sales in a particular month. In this case, he is not allowed to directly access the data of the sales section. He will first have to contact some other officer in the sales section and then request him to give the particular data. This is what encapsulation is. Here the data of the sales section and the employees that can manipulate them are wrapped under a single name “sales section”. Using encapsulation also hides the data. In this example, the data of the sections like sales, finance, or accounts are hidden from any other section."
      ],
      "metadata": {
        "id": "07I4biUxOAX1"
      }
    },
    {
      "cell_type": "markdown",
      "source": [
        "Protected members (in C++ and JAVA) are those members of the class that cannot be accessed outside the class but can be accessed from within the class and its subclasses. To accomplish this in Python, just follow the convention by prefixing the name of the member by a single underscore “_”.\n",
        "\n",
        "Although the protected variable can be accessed out of the class as well as in the derived class(modified too in derived class), it is customary(convention not a rule) to not access the protected out the class body.\n",
        "\n",
        "Note: The __init__ method is a constructor and runs as soon as an object of a class is instantiated.  "
      ],
      "metadata": {
        "id": "60elJGJWOAgG"
      }
    },
    {
      "cell_type": "code",
      "source": [
        "class a1:\n",
        "  def __init__(self):\n",
        "    #protected variable\n",
        "\n",
        "    self._a=30\n",
        "\n",
        "class a2(a1):\n",
        "  def __init__(self):\n",
        "\n",
        "    a1.__init__(self)\n",
        "\n",
        "    #accssing the protected variable\n",
        "\n",
        "    print('accessing the protected variable :',self._a)\n",
        "\n",
        "    #modifying the protected variable \n",
        "\n",
        "    self._a=50\n",
        "\n",
        "    print('modified protected variable inside the child class',self._a)\n",
        "\n",
        "\n",
        "#object creation for parent class\n",
        "c1=a1()\n",
        "#object creation for child class\n",
        "c2=a2()\n",
        "\n",
        "#accessing the protected variable outside the class\n",
        "print('accsing the variable outside the calss',c1._a)"
      ],
      "metadata": {
        "colab": {
          "base_uri": "https://localhost:8080/"
        },
        "id": "Bc3SmGDMOAlJ",
        "outputId": "833de22a-e9fc-41ee-88b1-670291b6e07f"
      },
      "execution_count": 5,
      "outputs": [
        {
          "output_type": "stream",
          "name": "stdout",
          "text": [
            "accessing the protected variable : 30\n",
            "modified protected variable inside the child class 50\n",
            "accsing the variable outside the calss 30\n"
          ]
        }
      ]
    },
    {
      "cell_type": "markdown",
      "source": [
        "Private members : simlilar to the protected members but should not be accessed outside the classes as well from childclass as well\n",
        "slef.__variable name\n"
      ],
      "metadata": {
        "id": "rNV-2O8COAot"
      }
    },
    {
      "cell_type": "code",
      "source": [
        "# Python program to\n",
        "# demonstrate private members\n",
        " \n",
        "# Creating a Base class\n",
        " \n",
        " \n",
        "class Base:\n",
        "    def __init__(self):\n",
        "        self.a = \"GeeksforGeeks\"\n",
        "        self.__c = \"GeeksforGeeks\"\n",
        " \n",
        "# Creating a derived class\n",
        "class Derived(Base):\n",
        "    def __init__(self):\n",
        " \n",
        "        # Calling constructor of\n",
        "        # Base class\n",
        "        Base.__init__(self)\n",
        "        print(\"Calling private member of base class: \")\n",
        "        print(self.__c)\n",
        " \n",
        " \n",
        "# Driver code\n",
        "obj1 = Base()\n",
        "print(obj1.a)\n",
        " \n",
        "# Uncommenting print(obj1.c) will\n",
        "# raise an AttributeError\n",
        " \n",
        "# Uncommenting obj2 = Derived() will\n",
        "# also raise an AtrributeError as\n",
        "# private member of base class\n",
        "# is called inside derived class"
      ],
      "metadata": {
        "colab": {
          "base_uri": "https://localhost:8080/"
        },
        "id": "l660Xc0_pMZD",
        "outputId": "257ee518-751a-4315-fba0-9a54c6f17b4b"
      },
      "execution_count": 2,
      "outputs": [
        {
          "output_type": "stream",
          "name": "stdout",
          "text": [
            "GeeksforGeeks\n"
          ]
        }
      ]
    },
    {
      "cell_type": "code",
      "source": [
        "print(obj1.__c)"
      ],
      "metadata": {
        "colab": {
          "base_uri": "https://localhost:8080/",
          "height": 165
        },
        "id": "Fpdw42f0pND4",
        "outputId": "9c8f7406-1995-4ff2-cdc7-536c1571ecef"
      },
      "execution_count": 6,
      "outputs": [
        {
          "output_type": "error",
          "ename": "AttributeError",
          "evalue": "ignored",
          "traceback": [
            "\u001b[0;31m---------------------------------------------------------------------------\u001b[0m",
            "\u001b[0;31mAttributeError\u001b[0m                            Traceback (most recent call last)",
            "\u001b[0;32m<ipython-input-6-062dd7bb5098>\u001b[0m in \u001b[0;36m<module>\u001b[0;34m()\u001b[0m\n\u001b[0;32m----> 1\u001b[0;31m \u001b[0mprint\u001b[0m\u001b[0;34m(\u001b[0m\u001b[0mobj1\u001b[0m\u001b[0;34m.\u001b[0m\u001b[0m__c\u001b[0m\u001b[0;34m)\u001b[0m\u001b[0;34m\u001b[0m\u001b[0;34m\u001b[0m\u001b[0m\n\u001b[0m",
            "\u001b[0;31mAttributeError\u001b[0m: 'Base' object has no attribute '__c'"
          ]
        }
      ]
    },
    {
      "cell_type": "code",
      "source": [
        "obj2=Derived()"
      ],
      "metadata": {
        "colab": {
          "base_uri": "https://localhost:8080/",
          "height": 304
        },
        "id": "kObUDTjqpON6",
        "outputId": "e9bacfc1-fb06-4caf-e78f-8b9755d9f7d8"
      },
      "execution_count": 7,
      "outputs": [
        {
          "output_type": "stream",
          "name": "stdout",
          "text": [
            "Calling private member of base class: \n"
          ]
        },
        {
          "output_type": "error",
          "ename": "AttributeError",
          "evalue": "ignored",
          "traceback": [
            "\u001b[0;31m---------------------------------------------------------------------------\u001b[0m",
            "\u001b[0;31mAttributeError\u001b[0m                            Traceback (most recent call last)",
            "\u001b[0;32m<ipython-input-7-84db25e6c108>\u001b[0m in \u001b[0;36m<module>\u001b[0;34m()\u001b[0m\n\u001b[0;32m----> 1\u001b[0;31m \u001b[0mobj2\u001b[0m\u001b[0;34m=\u001b[0m\u001b[0mDerived\u001b[0m\u001b[0;34m(\u001b[0m\u001b[0;34m)\u001b[0m\u001b[0;34m\u001b[0m\u001b[0;34m\u001b[0m\u001b[0m\n\u001b[0m",
            "\u001b[0;32m<ipython-input-2-10f44cd18bf0>\u001b[0m in \u001b[0;36m__init__\u001b[0;34m(self)\u001b[0m\n\u001b[1;32m     18\u001b[0m         \u001b[0mBase\u001b[0m\u001b[0;34m.\u001b[0m\u001b[0m__init__\u001b[0m\u001b[0;34m(\u001b[0m\u001b[0mself\u001b[0m\u001b[0;34m)\u001b[0m\u001b[0;34m\u001b[0m\u001b[0;34m\u001b[0m\u001b[0m\n\u001b[1;32m     19\u001b[0m         \u001b[0mprint\u001b[0m\u001b[0;34m(\u001b[0m\u001b[0;34m\"Calling private member of base class: \"\u001b[0m\u001b[0;34m)\u001b[0m\u001b[0;34m\u001b[0m\u001b[0;34m\u001b[0m\u001b[0m\n\u001b[0;32m---> 20\u001b[0;31m         \u001b[0mprint\u001b[0m\u001b[0;34m(\u001b[0m\u001b[0mself\u001b[0m\u001b[0;34m.\u001b[0m\u001b[0m__c\u001b[0m\u001b[0;34m)\u001b[0m\u001b[0;34m\u001b[0m\u001b[0;34m\u001b[0m\u001b[0m\n\u001b[0m\u001b[1;32m     21\u001b[0m \u001b[0;34m\u001b[0m\u001b[0m\n\u001b[1;32m     22\u001b[0m \u001b[0;34m\u001b[0m\u001b[0m\n",
            "\u001b[0;31mAttributeError\u001b[0m: 'Derived' object has no attribute '_Derived__c'"
          ]
        }
      ]
    },
    {
      "cell_type": "code",
      "source": [
        ""
      ],
      "metadata": {
        "id": "cRQHBTszpkMB"
      },
      "execution_count": null,
      "outputs": []
    }
  ]
}