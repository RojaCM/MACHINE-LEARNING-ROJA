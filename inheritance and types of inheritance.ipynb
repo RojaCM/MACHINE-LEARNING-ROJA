{
  "nbformat": 4,
  "nbformat_minor": 0,
  "metadata": {
    "colab": {
      "name": "Untitled148.ipynb",
      "provenance": [],
      "authorship_tag": "ABX9TyMVhfERKt31qliaNi6jkAwl",
      "include_colab_link": true
    },
    "kernelspec": {
      "name": "python3",
      "display_name": "Python 3"
    },
    "language_info": {
      "name": "python"
    }
  },
  "cells": [
    {
      "cell_type": "markdown",
      "metadata": {
        "id": "view-in-github",
        "colab_type": "text"
      },
      "source": [
        "<a href=\"https://colab.research.google.com/github/RojaCM/MACHINE-LEARNING-ROJA/blob/main/inheritance%20and%20types%20of%20inheritance.ipynb\" target=\"_parent\"><img src=\"https://colab.research.google.com/assets/colab-badge.svg\" alt=\"Open In Colab\"/></a>"
      ]
    },
    {
      "cell_type": "markdown",
      "source": [
        "#Inheritance in Python\n",
        "It is a capability of one class to inherit or derive all the properties of an another class\n",
        "*it shows the real world relationship well.\n",
        "*it also provides reuasbility of the code.we dont have to write the code again and again.ALso help in adding the more fetaures to a class without modifying it\n",
        "*it is transitive in nature.if class B inherits from another class A,then all the subclasses of B would automatically inherits from class B\n",
        "\n",
        "*Base class or child class or parent class \n",
        "*child class : class child_class(parent class):\n"
      ],
      "metadata": {
        "id": "pr8ZTuimqu89"
      }
    },
    {
      "cell_type": "code",
      "source": [
        "#parent class:\n",
        "class person:\n",
        "\n",
        "    def __init__(self,name):\n",
        "      self.n1=name\n",
        "  \n",
        "    def getName(self):\n",
        "      return self.n1\n",
        "    \n",
        "    def isemp(self):\n",
        "      return False\n",
        "  \n",
        "#child class\n",
        "\n",
        "class person1(person):\n",
        "  \n",
        "  def isemp(self):\n",
        "    return True\n",
        "  \n",
        "\n",
        "\n",
        "emp=person('roja')\n",
        "print(emp.getName(),emp.isemp())\n",
        "\n",
        "emp=person1('rojacm')\n",
        "print(emp.getName(),emp.isemp())\n"
      ],
      "metadata": {
        "colab": {
          "base_uri": "https://localhost:8080/"
        },
        "id": "ic4bwTmru75k",
        "outputId": "ba6c2fe6-627b-478a-f9bb-abc9d82097a0"
      },
      "execution_count": null,
      "outputs": [
        {
          "output_type": "stream",
          "name": "stdout",
          "text": [
            "roja False\n",
            "rojacm True\n"
          ]
        }
      ]
    },
    {
      "cell_type": "code",
      "source": [
        "# Python code to demonstrate how parent constructors\n",
        "# are called.\n",
        " \n",
        "# parent class\n",
        "class Person( object ):   \n",
        " \n",
        "        # __init__ is known as the constructor        \n",
        "        def __init__(self, name, idnumber):  \n",
        "                self.name = name\n",
        "                self.idnumber = idnumber\n",
        "        def display(self):\n",
        "                print(self.name)\n",
        "                print(self.idnumber)\n",
        " \n",
        "# child class\n",
        "class Employee( Person ):          \n",
        "        def __init__(self, name, idnumber, salary, post):\n",
        "                self.salary = salary\n",
        "                self.post = post\n",
        " \n",
        "                # invoking the __init__ of the parent class\n",
        "                Person.__init__(self, name, idnumber)\n",
        " \n",
        "                 \n",
        "# creation of an object variable or an instance\n",
        "a = Employee('Rahul', 886012, 200000, \"Intern\")   \n",
        " \n",
        "# calling a function of the class Person using its instance\n",
        "a.display()\n"
      ],
      "metadata": {
        "id": "LzENGFyXu8Ol",
        "colab": {
          "base_uri": "https://localhost:8080/"
        },
        "outputId": "91244b74-9a51-4c86-cb0f-0564d6ddbfb9"
      },
      "execution_count": null,
      "outputs": [
        {
          "output_type": "stream",
          "name": "stdout",
          "text": [
            "Rahul\n",
            "886012\n"
          ]
        }
      ]
    },
    {
      "cell_type": "markdown",
      "source": [
        "types of inheritance\n",
        "1.Single inheritance : when a child class inherited from only one parent class\n",
        "2.Multiple inheritance : when a child class inherits from multiple parent class \n",
        "3.Multilevel inheritance : when a child class inherits from parent and grandchild relationship"
      ],
      "metadata": {
        "id": "j8pssfTh_A7D"
      }
    },
    {
      "cell_type": "code",
      "source": [
        "#multiple inheritance\n",
        "\n",
        "#parent class1\n",
        "class p1(object):\n",
        "\n",
        "  def __init__(self):\n",
        "    self.name1='parent1'\n",
        "    print('base1')\n",
        "\n",
        "\n",
        "#parent class2\n",
        "\n",
        "class p2(object):\n",
        "  def __init__(self):\n",
        "    self.name2='parent2'\n",
        "    print('base2')\n",
        "\n",
        "  #child class inherits the property from p1 and p2\n",
        "\n",
        "class c1(p1, p2):\n",
        "\n",
        "    def __init__(self):\n",
        "      p1.__init__(self)\n",
        "      p2.__init__(self)\n",
        "      print('derived')\n",
        "      \n",
        "    def print1(self):\n",
        "      print(self.name1,self.name2)\n",
        "\n",
        "\n",
        "#object creation\n",
        "\n",
        "b=c1()\n",
        "b.print1()\n",
        "    "
      ],
      "metadata": {
        "id": "VNzKSIuQu8T-",
        "colab": {
          "base_uri": "https://localhost:8080/"
        },
        "outputId": "386e32b7-aa56-4642-9240-af1e6914bf06"
      },
      "execution_count": null,
      "outputs": [
        {
          "output_type": "stream",
          "name": "stdout",
          "text": [
            "base1\n",
            "base2\n",
            "derived\n",
            "parent1 parent2\n"
          ]
        }
      ]
    },
    {
      "cell_type": "code",
      "source": [
        "# Python example to show the working of multiple\n",
        "# inheritance\n",
        "class Base1(object):\n",
        "    def __init__(self):\n",
        "        self.str1 = \"Geek1\"\n",
        "        print(\"Base1\")\n",
        " \n",
        "class Base2(object):\n",
        "    def __init__(self):\n",
        "        self.str2 = \"Geek2\"       \n",
        "        print(\"Base2\")\n",
        " \n",
        "class Derived(Base1, Base2):\n",
        "    def __init__(self):\n",
        "         \n",
        "        # Calling constructors of Base1\n",
        "        # and Base2 classes\n",
        "        Base1.__init__(self)\n",
        "        Base2.__init__(self)\n",
        "        print(\"Derived\")\n",
        "         \n",
        "    def printStrs(self):\n",
        "        print(self.str1, self.str2)\n",
        "        \n",
        " \n",
        "ob = Derived()\n",
        "ob.printStrs()"
      ],
      "metadata": {
        "id": "VapZLl19u8XX",
        "colab": {
          "base_uri": "https://localhost:8080/"
        },
        "outputId": "cb933689-ce0d-4093-e503-c2ad56331df3"
      },
      "execution_count": null,
      "outputs": [
        {
          "output_type": "stream",
          "name": "stdout",
          "text": [
            "Base1\n",
            "Base2\n",
            "Derived\n",
            "Geek1 Geek2\n"
          ]
        }
      ]
    },
    {
      "cell_type": "code",
      "source": [
        "#multilevel inheritance\n",
        "class parent1:\n",
        "  def __init__(self,name):\n",
        "    self.n1=name\n",
        "  \n",
        "  def getName(self):\n",
        "    return self.n1\n",
        "  \n",
        "class child1(parent1):\n",
        "  def __init__(self,name,age):\n",
        "    parent1.__init__(self,name)\n",
        "    self.age=age\n",
        "\n",
        "  def getAge(self):\n",
        "     return self.age\n",
        "\n",
        "      \n",
        "\n",
        "class grandc(child1):\n",
        "  def __init__(self,name,age,address):\n",
        "    child1.__init__(self,name,age)\n",
        "    self.address=address\n",
        "  \n",
        "  def getAddress(self):\n",
        "    return self.address\n",
        "  \n",
        "g1=grandc('roja',25,'hassan')\n",
        "print(g1.getName(), g1.getAge() ,g1.getAddress())"
      ],
      "metadata": {
        "colab": {
          "base_uri": "https://localhost:8080/"
        },
        "id": "XWhG_KU7KhmI",
        "outputId": "d4769550-a177-43d0-eb7a-eb561a9079d6"
      },
      "execution_count": null,
      "outputs": [
        {
          "output_type": "stream",
          "name": "stdout",
          "text": [
            "roja 25 hassan\n"
          ]
        }
      ]
    },
    {
      "cell_type": "markdown",
      "source": [
        "4. Hierarchical inheritance More than one derived classes are created from a single base.\n",
        "5. Hybrid inheritance: This form combines more than one form of inheritance. Basically, it is a blend of more than one type of inheritance."
      ],
      "metadata": {
        "id": "m9wfn-VCf0Av"
      }
    },
    {
      "cell_type": "markdown",
      "source": [
        "Private members of parent class \n",
        "We don’t always want the instance variables of the parent class to be inherited by the child class i.e. we can make some of the instance variables of the parent class private, which won’t be available to the child class. \n",
        "We can make an instance variable by adding double underscores before its name. For example,"
      ],
      "metadata": {
        "id": "5p5PoDwtmR_b"
      }
    },
    {
      "cell_type": "code",
      "source": [
        "class a1:\n",
        "  def __init__(self):\n",
        "    self.c=34\n",
        "#private instance variable \n",
        "    self.__d=45\n",
        "\n",
        "class a2(a1):\n",
        "  def __init__(self):\n",
        "    self.e=76\n",
        "    a1.__init__(self)\n",
        "  \n",
        "s1=a2()\n",
        "s1.c\n",
        "\n",
        "\n",
        "#we cant retieve private instance variable d"
      ],
      "metadata": {
        "colab": {
          "base_uri": "https://localhost:8080/"
        },
        "id": "riY5kXgImSIi",
        "outputId": "7a1bc93f-f1dd-40e1-f808-2870e9421e36"
      },
      "execution_count": null,
      "outputs": [
        {
          "output_type": "execute_result",
          "data": {
            "text/plain": [
              "34"
            ]
          },
          "metadata": {},
          "execution_count": 77
        }
      ]
    },
    {
      "cell_type": "code",
      "source": [
        ""
      ],
      "metadata": {
        "id": "LwPWuWRumSMF"
      },
      "execution_count": null,
      "outputs": []
    }
  ]
}